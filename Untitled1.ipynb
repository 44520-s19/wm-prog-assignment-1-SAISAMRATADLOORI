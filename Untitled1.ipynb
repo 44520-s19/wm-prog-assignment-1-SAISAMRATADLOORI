{
 "cells": [
  {
   "cell_type": "code",
   "execution_count": 16,
   "metadata": {},
   "outputs": [
    {
     "name": "stdout",
     "output_type": "stream",
     "text": [
      "#      #\n",
      "##    ##\n",
      "###  ###\n",
      "########\n"
     ]
    }
   ],
   "source": [
    "count=4\n",
    "n=2*count-2    \n",
    "for a in range(0, count): \n",
    "        for b in range(0, a+1):\n",
    "             print('#',end='')\n",
    "        for b in range(0, n): \n",
    "            print(end=' ') \n",
    "        n = n - 2\n",
    "        for b in range(0, a+1): \n",
    "            print(\"#\", end='') \n",
    "        print()"
   ]
  }
 ],
 "metadata": {
  "kernelspec": {
   "display_name": "Python 3",
   "language": "python",
   "name": "python3"
  },
  "language_info": {
   "codemirror_mode": {
    "name": "ipython",
    "version": 3
   },
   "file_extension": ".py",
   "mimetype": "text/x-python",
   "name": "python",
   "nbconvert_exporter": "python",
   "pygments_lexer": "ipython3",
   "version": "3.7.3"
  }
 },
 "nbformat": 4,
 "nbformat_minor": 2
}
